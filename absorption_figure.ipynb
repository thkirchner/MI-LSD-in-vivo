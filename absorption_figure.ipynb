{
 "cells": [
  {
   "cell_type": "code",
   "execution_count": null,
   "metadata": {},
   "outputs": [],
   "source": [
    "DRIVE = \"/PATH_TO_DATA/\"+\"spectra/\""
   ]
  },
  {
   "cell_type": "code",
   "execution_count": null,
   "metadata": {},
   "outputs": [],
   "source": [
    "import numpy as np\n",
    "import pandas as pd\n",
    "import matplotlib as mpl\n",
    "import matplotlib.pyplot as plt\n",
    "from scipy.interpolate import interp1d\n",
    "\n",
    "## literature\n",
    "water_ref1 = pd.read_csv(DRIVE + \"segelstein81.csv\", header=3, sep=\"\\t\")\n",
    "hb_ref =  pd.read_csv(DRIVE + \"hemoglobin.csv\", header=13, sep=\"\\t\")\n",
    "\n",
    "lambda_of_interest = np.arange(680, 981, 1)\n",
    "lambda_of_interest2 = np.arange(450, 981, 5)\n",
    "f = interp1d(np.asarray(water_ref1['(nm)']), np.asarray(water_ref1['(1/cm)']), kind='linear')\n",
    "gelpad = pd.read_csv(DRIVE + \"gelpad.Sample.Raw.csv\", header=0, sep=\";\")\n",
    "oel = pd.read_csv(DRIVE + \"mineraloil.Sample.Raw.csv\", header=0, sep=\";\")"
   ]
  },
  {
   "cell_type": "code",
   "execution_count": null,
   "metadata": {},
   "outputs": [],
   "source": [
    "mpl.rcParams.update({'font.size': 8})\n",
    "mpl.rc('xtick', labelsize=8) \n",
    "mpl.rc('ytick', labelsize=8)\n",
    "fig, ax = plt.subplots(2,1, figsize=(4,3), dpi=600)\n",
    "\n",
    "ax[0].plot(hb_ref[\"nm\"], 0.0054*hb_ref[\"cm-1/M\"],\n",
    "        \"-\", lw=2, color=\"tab:red\",\n",
    "        label=\"HbO\")\n",
    "ax[0].plot(hb_ref[\"nm\"], 0.0054*hb_ref[\"cm-1/M.1\"],\n",
    "           \"-\", lw=2, color=\"tab:blue\",\n",
    "           label=\"Hb\")\n",
    "ax[1].plot(water_ref1[\"(nm)\"], water_ref1[\"(1/cm)\"],\n",
    "           \"-\", lw=2, color=\"darkblue\",\n",
    "           label=\"Water\")\n",
    "ax[1].plot(lambda_of_interest, \n",
    "           np.asarray(gelpad[\" A\"][::-1])*2.3+f(lambda_of_interest),\n",
    "           \"-\", lw=2, color=\"tab:orange\", alpha=0.5,\n",
    "           label=\"Gel pad\")\n",
    "ax[1].plot(lambda_of_interest2, \n",
    "           np.asarray(oel[\" A\"][::-1])*2.3+f(lambda_of_interest2),\n",
    "           \".\", lw=2, color=\"tab:orange\",\n",
    "           label=\"Mineral oil\")\n",
    "ax[0].legend(fontsize=7,frameon=False)\n",
    "ax[1].legend(fontsize=7,frameon=False)\n",
    "for wl in [760,780,800,820,840,860,880,900,980]:\n",
    "    ax[0].axvline(x=wl, color=\"grey\", alpha=0.5, linestyle=\"-\")\n",
    "    ax[1].axvline(x=wl, color=\"grey\", alpha=0.5, linestyle=\"-\")\n",
    "for wl in [920]:\n",
    "    ax[0].axvline(x=wl, color=\"grey\", alpha=0.3, linestyle=\":\")\n",
    "    ax[1].axvline(x=wl, color=\"grey\", alpha=0.3, linestyle=\":\")\n",
    "ax[0].set_xlim(670,985)\n",
    "ax[1].set_xlim(670,985)\n",
    "ax[0].set_ylim(0,13)\n",
    "ax[1].set_ylim(0,0.6)\n",
    "ax[1].set_xlabel(\"$\\lambda$ [nm]\")\n",
    "ax[0].set_ylabel(\"$\\mu_\\mathrm{a}$ [cm$^{-1}]$\")\n",
    "ax[1].set_ylabel(\"$\\mu_\\mathrm{a}$ [cm$^{-1}]$\")\n",
    "\n",
    "fig.tight_layout()\n",
    "plt.show()\n",
    "fig.savefig(drive + \"spectra.png\")\n",
    "plt.close(fig)"
   ]
  },
  {
   "cell_type": "code",
   "execution_count": null,
   "metadata": {},
   "outputs": [],
   "source": []
  }
 ],
 "metadata": {
  "kernelspec": {
   "display_name": "Python 3",
   "language": "python",
   "name": "python3"
  },
  "language_info": {
   "codemirror_mode": {
    "name": "ipython",
    "version": 3
   },
   "file_extension": ".py",
   "mimetype": "text/x-python",
   "name": "python",
   "nbconvert_exporter": "python",
   "pygments_lexer": "ipython3",
   "version": "3.7.10"
  }
 },
 "nbformat": 4,
 "nbformat_minor": 4
}
